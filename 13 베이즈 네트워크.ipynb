{
 "cells": [
  {
   "cell_type": "markdown",
   "id": "65f00672",
   "metadata": {},
   "source": [
    "베이즈 네트워크 기본. 여기 제공하는 코드는 GitHub aima-python의 코드를 기반으로 일부 수정한 것임."
   ]
  },
  {
   "cell_type": "code",
   "execution_count": 30,
   "id": "9e4a1d40",
   "metadata": {},
   "outputs": [],
   "source": [
    "# 확률적 추론을 위한 기본 코드들\n",
    "\n",
    "import numpy as np\n",
    "from collections import defaultdict\n",
    "\n",
    "class ProbDist:\n",
    "    \"\"\"이산 확률 분포를 정의하는 클래스.\n",
    "    생성자에 확률변수(random variable)를 정의함.\n",
    "    이후에 확률변수 각 값에 대한 확률값을 지정함(딕셔너리 이용).\"\"\"\n",
    "\n",
    "    def __init__(self, var_name='?', freq=None):\n",
    "        \"\"\"var_name: 확률변수. freq가 None이 아니라면, (확률변수의 값, 빈도) 쌍으로 구성된 딕셔너리여야 함.\n",
    "        이후, 빈도를 바탕으로 합이 1이 되는 확률이 되도록 정규화함.\"\"\"\n",
    "        self.prob = {} # 실제 확률값은 여기에 저장됨\n",
    "        self.var_name = var_name\n",
    "        self.values = []\n",
    "        if freq:\n",
    "            for (v, p) in freq.items():\n",
    "                self[v] = p\n",
    "            self.normalize()\n",
    "\n",
    "    def __getitem__(self, val):\n",
    "        \"\"\"확률변수의 값(val)이 주어지면, 확률 P(val) 리턴.\"\"\"\n",
    "        try:\n",
    "            return self.prob[val]\n",
    "        except KeyError:\n",
    "            return 0\n",
    "\n",
    "    def __setitem__(self, val, p):\n",
    "        \"\"\"확률변수의 값 val에 대한 확률 P(val) = p로 설정\"\"\"\n",
    "        if val not in self.values:\n",
    "            self.values.append(val)\n",
    "        self.prob[val] = p\n",
    "\n",
    "    def normalize(self):\n",
    "        \"\"\"모든 확률값의 합이 1이 되도록 정규화하여 정규화된 분포를 리턴함.\n",
    "        확률값 합이 0이면, ZeroDivisionError가 발생됨.\"\"\"\n",
    "        total = sum(self.prob.values())\n",
    "        if not np.isclose(total, 1.0):\n",
    "            for val in self.prob:\n",
    "                if total == 0:\n",
    "                    self.prob[val] = 1\n",
    "                else:\n",
    "                    self.prob[val] /= total\n",
    "        return self\n",
    "\n",
    "    def show_approx(self, numfmt='{:.3g}'):\n",
    "        \"\"\"확률변수의 값에 따라 정렬하고 확률값은 반올림하여 리턴함.\"\"\"\n",
    "        return ', '.join([('{}: ' + numfmt).format(v, p) for (v, p) in sorted(self.prob.items())])\n",
    "\n",
    "    def __repr__(self):\n",
    "        return \"P({})\".format(self.var_name)\n",
    "\n",
    "\n",
    "class JointProbDist(ProbDist):\n",
    "    \"\"\"변수 집합에 대한 이산 확률 분포(결합 확률 분포) 클래스. ProbDist의 서브 클래스.\"\"\"\n",
    "\n",
    "    def __init__(self, variables):\n",
    "        \"\"\"variables: 대상 확률변수들.\"\"\"\n",
    "        self.prob = {}\n",
    "        self.variables = variables\n",
    "        self.vals = defaultdict(list) # k: [v1, v2, ...]\n",
    "\n",
    "    def __getitem__(self, values):\n",
    "        \"\"\"주어진 변수 값들에 대한 결합 확률 리턴.\"\"\"\n",
    "        values = event_values(values, self.variables)\n",
    "        return ProbDist.__getitem__(self, values)\n",
    "\n",
    "    def __setitem__(self, values, p):\n",
    "        \"\"\"확률값 P(values) = p로 설정. values는 각 변수에 대해 하나의 값을 가진 튜플/딕셔너리.\n",
    "        또한 각 변수에 대해 지금까지 관측된 각 변수의 값을 기록함.\"\"\"\n",
    "        values = event_values(values, self.variables)\n",
    "        self.prob[values] = p\n",
    "        for var, val in zip(self.variables, values):\n",
    "            if val not in self.vals[var]:\n",
    "                self.vals[var].append(val)\n",
    "\n",
    "    def values(self, var):\n",
    "        \"\"\"변수에 대해 가능한 값의 집합을 리턴.\"\"\"\n",
    "        return self.vals[var]\n",
    "\n",
    "    def __repr__(self):\n",
    "        return \"P({})\".format(self.variables)\n",
    "\n",
    "\n",
    "def event_values(event, variables):\n",
    "    \"\"\"이벤트(event)에 존재하는 변수들(variables)에 대한 값들의 튜플을 리턴함.\"\"\"\n",
    "    if isinstance(event, tuple) and len(event) == len(variables):\n",
    "        return event\n",
    "    else:\n",
    "        return tuple([event[var] for var in variables])\n",
    "\n",
    "\n",
    "def extend(s, var, val):\n",
    "    \"\"\"딕셔너리 s를 복사하고 var에 값 val을 세팅하여 확장하여 그 복사본을 리턴함.\"\"\"\n",
    "    return {**s, var: val}\n"
   ]
  },
  {
   "cell_type": "code",
   "execution_count": 3,
   "id": "1f178411",
   "metadata": {},
   "outputs": [],
   "source": [
    "# 확률적 추론에 대한 기본 코드를 probability.py에 저장해뒀음.\n",
    "# from probability import *\n",
    "from bayesnet import *\n",
    "import random\n",
    "from functools import reduce"
   ]
  },
  {
   "cell_type": "markdown",
   "id": "69704df7",
   "metadata": {},
   "source": [
    "## 베이즈 네트워크 정의"
   ]
  },
  {
   "cell_type": "code",
   "execution_count": 32,
   "id": "3cc56891",
   "metadata": {},
   "outputs": [],
   "source": [
    "class BayesNet:\n",
    "    \"\"\"베이즈 네트워크 클래스. 불리언 변수로만 구성된 버전\"\"\"\n",
    "\n",
    "    def __init__(self, node_specs=None):\n",
    "        \"\"\"node_specs: 노드(BayesNode) 리스트. 노드의 순서는 부모가 자식보다 앞쪽에 위치하도록 정렬되어야 함.\n",
    "        이 리스트의 각 원소는 BayesNode 생성에 필요한 (X, parents, cpt) 튜플로 구성됨.\"\"\"\n",
    "        self.nodes = []\n",
    "        self.variables = []\n",
    "        node_specs = node_specs or []\n",
    "        for node_spec in node_specs:\n",
    "            self.add(node_spec)\n",
    "\n",
    "    def add(self, node_spec):\n",
    "        \"\"\"네트워크에 노드 추가.\n",
    "        추가하는 노드의 부모가 이미 네트워크에 존재해야 하며,\n",
    "        추가하는 노드의 변수는 네트워크에 존재하지 않아야 함.\"\"\"\n",
    "        node = BayesNode(*node_spec)\n",
    "        assert node.variable not in self.variables\n",
    "        assert all((parent in self.variables) for parent in node.parents)\n",
    "        self.nodes.append(node)\n",
    "        self.variables.append(node.variable)\n",
    "        for parent in node.parents:\n",
    "            self.variable_node(parent).children.append(node)\n",
    "\n",
    "    def variable_node(self, var):\n",
    "        \"\"\"var에 해당하는 변수의 노드를 리턴함.\"\"\"\n",
    "        for n in self.nodes:\n",
    "            if n.variable == var:\n",
    "                return n\n",
    "        raise Exception(\"No such variable: {}\".format(var))\n",
    "\n",
    "    def variable_values(self, var):\n",
    "        \"\"\"var의 도메인을 리턴함.\"\"\"\n",
    "        return [True, False]\n",
    "\n",
    "    def __repr__(self):\n",
    "        return 'BayesNet({0!r})'.format(self.nodes)"
   ]
  },
  {
   "cell_type": "code",
   "execution_count": 33,
   "id": "561174d4",
   "metadata": {},
   "outputs": [],
   "source": [
    "class BayesNode:\n",
    "    \"\"\"베이즈 네트워크의 노드 클래스.\n",
    "    불리언 변수에 대한 조건부 확률 분포 P(X | parents).\"\"\"\n",
    "\n",
    "    def __init__(self, X, parents, cpt):\n",
    "        \"\"\"X: 변수명,\n",
    "        parents: 변수명 시퀀스 또는 공백으로 구분된 문자열\n",
    "        cpt: 조건부 확률표. 다음 중 하나의 형태:\n",
    "\n",
    "        * 숫자. 무조건부 확률 P(X=true). 부모가 없는 변수인 경우.\n",
    "\n",
    "        * {v: p, ...} 형식의 딕셔너리. 조건부 확률 분포 P(X=true | parent=v) = p.\n",
    "          부모가 하나뿐인 경우.\n",
    "\n",
    "        * {(v1, v2, ...): p, ...} 형식의 딕셔너리. 조건부 확률 분포 P(X=true | parent1=v1, parent2=v2, ...) = p.\n",
    "          딕셔너리의 키는 부모 개수 만큼의 값을 가져야 함. 가장 일반적인 형태.\n",
    "          내부적으로는 이런 형식으로 값이 저장됨.\n",
    "          \n",
    "        P(X=true)를 이용하여 P(X=false)는 계산할 수 있으므로, cpt에는 거짓일 확률은 명시하지 않음.\n",
    "        \"\"\"\n",
    "        if isinstance(parents, str):\n",
    "            parents = parents.split()\n",
    "\n",
    "        # cpt는 항상 {(v1, v2, ...): p, ...} 형식의 딕셔너리로 저장\n",
    "        if isinstance(cpt, (float, int)):  # 부모 없음. 0-튜플\n",
    "            cpt = {(): cpt}\n",
    "        elif isinstance(cpt, dict):\n",
    "            # 부모 하나. 1-튜플\n",
    "            if cpt and isinstance(list(cpt.keys())[0], bool):\n",
    "                cpt = {(v,): p for v, p in cpt.items()}\n",
    "\n",
    "        assert isinstance(cpt, dict)\n",
    "        for vs, p in cpt.items():\n",
    "            assert isinstance(vs, tuple) and len(vs) == len(parents)\n",
    "            assert all(isinstance(v, bool) for v in vs)\n",
    "            assert 0 <= p <= 1\n",
    "\n",
    "        self.variable = X\n",
    "        self.parents = parents\n",
    "        self.cpt = cpt\n",
    "        self.children = []\n",
    "\n",
    "    def p(self, value, event):\n",
    "        \"\"\"조건부 확률 P(X=value | parents=parent_values) 리턴\n",
    "        parent_values: event에 있는 부모의 값들. event는 각 부모에 하나의 값을 배정해야 함.\n",
    "        >>> bn = BayesNode('X', 'Burglary', {T: 0.2, F: 0.625})\n",
    "        >>> bn.p(False, {'Burglary': False, 'Earthquake': True})\n",
    "        0.375\"\"\"\n",
    "        assert isinstance(value, bool)\n",
    "        ptrue = self.cpt[event_values(event, self.parents)]\n",
    "        return ptrue if value else 1 - ptrue\n",
    "\n",
    "    def sample(self, event):\n",
    "        \"\"\"event의 부모 변수 값이 주어졌을 때 노드 변수의 조건부 확률 분포로부터 샘플링.\n",
    "        조건부 확률에 따라 True/False를 무작위로 리턴\"\"\"\n",
    "        return probability(self.p(True, event))\n",
    "\n",
    "    def __repr__(self):\n",
    "        return repr((self.variable, ' '.join(self.parents)))\n",
    "\n",
    "\n",
    "def probability(p):\n",
    "    \"\"\"확률 p에 따라 True를 리턴함\"\"\"\n",
    "    return p > random.uniform(0.0, 1.0)"
   ]
  },
  {
   "cell_type": "markdown",
   "id": "8e23ddfe",
   "metadata": {},
   "source": [
    "## 정확 추론(Exact Inference)"
   ]
  },
  {
   "cell_type": "code",
   "execution_count": 6,
   "id": "d91df5fb",
   "metadata": {},
   "outputs": [],
   "source": [
    "# 열거\n",
    "def enumeration_ask(X, e, bn):\n",
    "    \"\"\"베이즈 네트워크 bn에 대해, 증거 e(딕셔너리)가 주어졌을 때 변수 X의 조건부 확률을 리턴함.\"\"\"\n",
    "    assert X not in e, \"Query variable must be distinct from evidence\"\n",
    "    Q = ProbDist(X)\n",
    "    for xi in bn.variable_values(X):\n",
    "        Q[xi] = enumerate_all(bn.variables, extend(e, X, xi), bn)\n",
    "    return Q.normalize()\n",
    "\n",
    "\n",
    "def enumerate_all(variables, e, bn):\n",
    "    \"\"\"증거 e와 일관된 P(variables | e{others})의 합을 리턴함.\n",
    "    P: 베이즈 네트워크 bn으로 표현되는 결합 확률 분포,\n",
    "    e{others}: bn에서 variables를 제외한 다른 변수들로 제한된 증거.\n",
    "    variables에서 부모는 자식들보다 앞에 위치해야 함.\"\"\"\n",
    "    if not variables:\n",
    "        return 1.0\n",
    "    Y, rest = variables[0], variables[1:]\n",
    "    Ynode = bn.variable_node(Y)\n",
    "    if Y in e:\n",
    "        return Ynode.p(e[Y], e) * enumerate_all(rest, e, bn)\n",
    "    else:\n",
    "        return sum(Ynode.p(y, e) * enumerate_all(rest, extend(e, Y, y), bn)\n",
    "                   for y in bn.variable_values(Y))"
   ]
  },
  {
   "cell_type": "code",
   "execution_count": 7,
   "id": "bef79de0",
   "metadata": {},
   "outputs": [],
   "source": [
    "# 변수 소거 알고리즘\n",
    "def elimination_ask(X, e, bn):\n",
    "    \"\"\"변수 소거를 통해 베이즈 네트워크 bn의 P(X|e)를 계산함. e: 딕셔너리\"\"\"\n",
    "    assert X not in e, \"Query variable must be distinct from evidence\"\n",
    "    factors = []\n",
    "    for var in reversed(bn.variables):\n",
    "        factors.append(make_factor(var, e, bn))\n",
    "        if is_hidden(var, X, e):\n",
    "            factors = sum_out(var, factors, bn)\n",
    "    return pointwise_product(factors, bn).normalize()\n",
    "\n",
    "\n",
    "def is_hidden(var, X, e):\n",
    "    \"\"\"P(X|e)를 질의할 때 var이 미관측 변수인가?\"\"\"\n",
    "    return var != X and var not in e\n",
    "\n",
    "\n",
    "def make_factor(var, e, bn):\n",
    "    \"\"\"e가 주어졌을 때 bn의 결합 확률 분포에서 var에 대한 인수를 리턴함.\n",
    "    bn의 완전 결합 확률 분포는 bn 변수들에 대한 이 인수들의 성분별 곱(pointwise product)임.\"\"\"\n",
    "    node = bn.variable_node(var)\n",
    "    variables = [X for X in [var] + node.parents if X not in e]\n",
    "    cpt = {event_values(e1, variables): node.p(e1[var], e1)\n",
    "           for e1 in all_events(variables, bn, e)}\n",
    "    return Factor(variables, cpt)\n",
    "\n",
    "\n",
    "def pointwise_product(factors, bn):\n",
    "    return reduce(lambda f, g: f.pointwise_product(g, bn), factors)\n",
    "\n",
    "\n",
    "def sum_out(var, factors, bn):\n",
    "    \"\"\"값들에 대해 합산함으로써 모든 인수들에서 var를 삭제함.\"\"\"\n",
    "    result, var_factors = [], []\n",
    "    for f in factors:\n",
    "        (var_factors if var in f.variables else result).append(f)\n",
    "    result.append(pointwise_product(var_factors, bn).sum_out(var, bn))\n",
    "    return result\n",
    "\n",
    "\n",
    "class Factor:\n",
    "    \"\"\"결합 확률 분포의 한 인수\"\"\"\n",
    "\n",
    "    def __init__(self, variables, cpt):\n",
    "        self.variables = variables\n",
    "        self.cpt = cpt\n",
    "\n",
    "    def pointwise_product(self, other, bn):\n",
    "        \"\"\"두 인수의 성분별 곱 계산. 변수들은 합집합이 됨.\"\"\"\n",
    "        variables = list(set(self.variables) | set(other.variables))\n",
    "        cpt = {event_values(e, variables): self.p(e) * other.p(e) for e in all_events(variables, bn, {})}\n",
    "        return Factor(variables, cpt)\n",
    "\n",
    "    def sum_out(self, var, bn):\n",
    "        \"\"\"값들에 대해 합산함으로써 var를 삭제하여 인수를 생성함.\"\"\"\n",
    "        variables = [X for X in self.variables if X != var]\n",
    "        cpt = {event_values(e, variables): sum(self.p(extend(e, var, val)) for val in bn.variable_values(var))\n",
    "               for e in all_events(variables, bn, {})}\n",
    "        return Factor(variables, cpt)\n",
    "\n",
    "    def normalize(self):\n",
    "        \"\"\"확률값 리턴. 하나의 변수여야 함.\"\"\"\n",
    "        assert len(self.variables) == 1\n",
    "        return ProbDist(self.variables[0], {k: v for ((k,), v) in self.cpt.items()})\n",
    "\n",
    "    def p(self, e):\n",
    "        \"\"\"e에 대한 조건부 확률표 조회\"\"\"\n",
    "        return self.cpt[event_values(e, self.variables)]\n",
    "\n",
    "\n",
    "def all_events(variables, bn, e):\n",
    "    \"\"\"모든 변수들에 대한 값으로 e를 확장하여 yield.\"\"\"\n",
    "    if not variables:\n",
    "        yield e\n",
    "    else:\n",
    "        X, rest = variables[0], variables[1:]\n",
    "        for e1 in all_events(rest, bn, e):\n",
    "            for x in bn.variable_values(X):\n",
    "                yield extend(e1, X, x)\n",
    "\n",
    "\n",
    "def extend(s, var, val):\n",
    "    \"\"\"딕셔너리 s를 복사하고 var에 값 val을 세팅하여 확장하여 그 복사본을 리턴함.\"\"\"\n",
    "    return {**s, var: val}"
   ]
  },
  {
   "cell_type": "markdown",
   "id": "be1928ad",
   "metadata": {},
   "source": [
    "## 이용 예: 침입 경보 베이즈 네트워크"
   ]
  },
  {
   "cell_type": "code",
   "execution_count": 36,
   "id": "bb529df3",
   "metadata": {},
   "outputs": [],
   "source": [
    "alarm_node = BayesNode('Alarm', ['Burglary', 'Earthquake'], \n",
    "                       {(True, True): 0.95,(True, False): 0.94, (False, True): 0.29, (False, False): 0.001})"
   ]
  },
  {
   "cell_type": "code",
   "execution_count": 37,
   "id": "8ec7380f",
   "metadata": {},
   "outputs": [],
   "source": [
    "# 부모와 조건부 확률표를 설정하는 방법을 다양하게 허용함\n",
    "john_node = BayesNode('JohnCalls', ['Alarm'], {True: 0.90, False: 0.05})\n",
    "mary_node = BayesNode('MaryCalls', 'Alarm', {(True, ): 0.70, (False, ): 0.01})"
   ]
  },
  {
   "cell_type": "code",
   "execution_count": 38,
   "id": "ffca4c0e",
   "metadata": {},
   "outputs": [],
   "source": [
    "# 부모가 없는 노드\n",
    "burglary_node = BayesNode('Burglary', '', 0.001)\n",
    "earthquake_node = BayesNode('Earthquake', '', 0.002)"
   ]
  },
  {
   "cell_type": "code",
   "execution_count": 39,
   "id": "76ccdda8",
   "metadata": {},
   "outputs": [
    {
     "data": {
      "text/plain": [
       "0.09999999999999998"
      ]
     },
     "execution_count": 39,
     "metadata": {},
     "output_type": "execute_result"
    }
   ],
   "source": [
    "# 노드에 연관된 조건부 확률값 조회\n",
    "john_node.p(False, {'Alarm': True}) # P(JohnCalls=False | Alarm=True)"
   ]
  },
  {
   "cell_type": "code",
   "execution_count": 4,
   "id": "985589f3",
   "metadata": {},
   "outputs": [],
   "source": [
    "Aplus = BayesNet([\n",
    "    (\"교수님의수제자\", '', 0.05),\n",
    "    ('선배와친분', \"교수님의수제자\", {T: 0.8, F: 0.3}),\n",
    "    ('족보보유', '선배와친분', {T: 0.7, F: 0.1}),\n",
    "    ('외부대외활동', '교수님의수제자', {T: 0.85, F: 0.1}),\n",
    "    ('높은아이큐', '', 0.2),\n",
    "    ('사전지식보유', '외부대외활동 높은아이큐', {(T, T): 0.9, (T, F): 0.75, (F, T): 0.35, (F, F): 0.05}),\n",
    "    ('체력좋음', '', 0.25),\n",
    "    ('매주예복습', '체력좋음', {T: 0.6, F: 0.2}),\n",
    "    ('자료3회독', '매주예복습', {T: 0.9, F: 0.15}),\n",
    "    ('정시기상', '체력좋음', {T: 0.99, F: 0.90}),\n",
    "    ('정시출석','정시기상',{T:1, F:0}),\n",
    "    ('에이플', '족보보유 사전지식보유 자료3회독 정시출석', {(T, T, T, T): 0.97, (T, T, F, T): 0.7, (T, F, T, T): 0.85, (F, T, T, T): 0.7, (T, F, F, T): 0.5, (F, T, F, T): 0.3, (F, F, T, T): 0.4, (F, F, F, T): 0.05, (T, T, T, F): 0.5, (T, T, F, F): 0.4, (T, F, T, F): 0.35, (F, T, T, F): 0.35, (T, F, F, F): 0.2, (F, T, F, F): 0.15, (F, F, T, F): 0.1, (F, F, F, F): 0.03})\n",
    "    #('에이플', '족보보유 사전지식보유 자료3회독', {(T, T, T): 0.97, (T, T, F): 0.7, (T, F, T): 0.85, (F, T, T): 0.7, (T, F, F): 0.5, (F, T, F): 0.3, (F, F, T): 0.4, (F, F, F): 0.05})\n",
    "])"
   ]
  },
  {
   "cell_type": "code",
   "execution_count": 41,
   "id": "35ba232e",
   "metadata": {},
   "outputs": [
    {
     "ename": "NameError",
     "evalue": "name 'Aplus' is not defined",
     "output_type": "error",
     "traceback": [
      "\u001b[0;31m---------------------------------------------------------------------------\u001b[0m",
      "\u001b[0;31mNameError\u001b[0m                                 Traceback (most recent call last)",
      "Cell \u001b[0;32mIn[41], line 2\u001b[0m\n\u001b[1;32m      1\u001b[0m \u001b[38;5;66;03m# variable_node를 통해 노드에 접근할 수 있음\u001b[39;00m\n\u001b[0;32m----> 2\u001b[0m alarm_node \u001b[38;5;241m=\u001b[39m \u001b[43mAplus\u001b[49m\u001b[38;5;241m.\u001b[39mvariable_node(\u001b[38;5;124m'\u001b[39m\u001b[38;5;124m에이플\u001b[39m\u001b[38;5;124m'\u001b[39m)\n\u001b[1;32m      3\u001b[0m alarm_node\n",
      "\u001b[0;31mNameError\u001b[0m: name 'Aplus' is not defined"
     ]
    }
   ],
   "source": [
    "# variable_node를 통해 노드에 접근할 수 있음\n",
    "alarm_node = Aplus.variable_node('에이플')\n",
    "alarm_node"
   ]
  },
  {
   "cell_type": "code",
   "execution_count": 55,
   "id": "dee1f2ad",
   "metadata": {},
   "outputs": [
    {
     "name": "stdout",
     "output_type": "stream",
     "text": [
      "에이플\n",
      "['족보보유', '사전지식보유', '자료3회독', '출결미달없음']\n",
      "{(True, True, True, True): 0.97, (True, True, False, True): 0.7, (True, False, True, True): 0.85, (False, True, True, True): 0.7, (True, False, False, True): 0.5, (False, True, False, True): 0.3, (False, False, True, True): 0.4, (False, False, False, True): 0.05, (True, True, True, False): 0.0, (True, True, False, False): 0.0, (True, False, True, False): 0.0, (False, True, True, False): 0.0, (True, False, False, False): 0.0, (False, True, False, False): 0.0, (False, False, True, False): 0.0, (False, False, False, False): 0.0}\n",
      "[]\n"
     ]
    }
   ],
   "source": [
    "print(alarm_node.variable, alarm_node.parents, alarm_node.cpt, alarm_node.children, sep='\\n')"
   ]
  },
  {
   "cell_type": "code",
   "execution_count": 56,
   "id": "d397af5c",
   "metadata": {},
   "outputs": [
    {
     "data": {
      "text/plain": [
       "'False: 0.499, True: 0.501'"
      ]
     },
     "execution_count": 56,
     "metadata": {},
     "output_type": "execute_result"
    }
   ],
   "source": [
    "# 열거를 통한 추론\n",
    "# P(Burglary=True | JohnCalls=True, MaryCalls=True)\n",
    "ans_dist = enumeration_ask('족보보유', {\"에이플\":True, \"높은아이큐\":True}, Aplus)\n",
    "ans_dist.show_approx()"
   ]
  },
  {
   "cell_type": "code",
   "execution_count": 50,
   "id": "06ffcad6",
   "metadata": {},
   "outputs": [
    {
     "data": {
      "text/plain": [
       "0.5009501090183831"
      ]
     },
     "execution_count": 50,
     "metadata": {},
     "output_type": "execute_result"
    }
   ],
   "source": [
    "ans_dist[T]"
   ]
  },
  {
   "cell_type": "code",
   "execution_count": 11,
   "id": "f98edfc3",
   "metadata": {},
   "outputs": [
    {
     "data": {
      "text/plain": [
       "'False: 0.653, True: 0.347'"
      ]
     },
     "execution_count": 11,
     "metadata": {},
     "output_type": "execute_result"
    }
   ],
   "source": [
    "# 변수 소거를 통한 추론\n",
    "ans_dist = elimination_ask('에이플', dict(), Aplus)\n",
    "ans_dist.show_approx()"
   ]
  },
  {
   "cell_type": "code",
   "execution_count": 52,
   "id": "eb8beda0",
   "metadata": {},
   "outputs": [
    {
     "data": {
      "text/plain": [
       "0.33547115981250003"
      ]
     },
     "execution_count": 52,
     "metadata": {},
     "output_type": "execute_result"
    }
   ],
   "source": [
    "ans_dist[T]"
   ]
  },
  {
   "cell_type": "code",
   "execution_count": null,
   "id": "807a478c",
   "metadata": {},
   "outputs": [],
   "source": [
    "# 결정론 : .335, 비결정론 : .362"
   ]
  }
 ],
 "metadata": {
  "kernelspec": {
   "display_name": "Python 3 (ipykernel)",
   "language": "python",
   "name": "python3"
  },
  "language_info": {
   "codemirror_mode": {
    "name": "ipython",
    "version": 3
   },
   "file_extension": ".py",
   "mimetype": "text/x-python",
   "name": "python",
   "nbconvert_exporter": "python",
   "pygments_lexer": "ipython3",
   "version": "3.10.10"
  }
 },
 "nbformat": 4,
 "nbformat_minor": 5
}
