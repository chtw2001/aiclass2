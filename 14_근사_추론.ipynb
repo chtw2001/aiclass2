{
 "cells": [
  {
   "cell_type": "markdown",
   "id": "c5a6164e",
   "metadata": {
    "id": "c5a6164e"
   },
   "source": [
    "베이즈 네트워크의 근사 추론(approximate inference). 여기 제공하는 코드는 GitHub aima-python의 코드를 기반으로 일부 수정한 것임."
   ]
  },
  {
   "cell_type": "code",
   "execution_count": 12,
   "id": "c1ee71bf",
   "metadata": {
    "id": "c1ee71bf"
   },
   "outputs": [],
   "source": [
    "# 베이즈 네트워크 기본 코드를 bayesnet.py에 저장해뒀음\n",
    "from bayesnet import *\n",
    "from probability import *\n",
    "from functools import reduce\n",
    "import random\n",
    "seed = 23"
   ]
  },
  {
   "cell_type": "markdown",
   "id": "d7b339b6",
   "metadata": {},
   "source": [
    "## 정확추론"
   ]
  },
  {
   "cell_type": "code",
   "execution_count": 13,
   "id": "54406440",
   "metadata": {},
   "outputs": [],
   "source": [
    "# 열거\n",
    "def enumeration_ask(X, e, bn):\n",
    "    \"\"\"베이즈 네트워크 bn에 대해, 증거 e(딕셔너리)가 주어졌을 때 변수 X의 조건부 확률을 리턴함.\"\"\"\n",
    "    assert X not in e, \"Query variable must be distinct from evidence\"\n",
    "    Q = ProbDist(X)\n",
    "    for xi in bn.variable_values(X):\n",
    "        Q[xi] = enumerate_all(bn.variables, extend(e, X, xi), bn)\n",
    "    return Q.normalize()\n",
    "\n",
    "\n",
    "def enumerate_all(variables, e, bn):\n",
    "    \"\"\"증거 e와 일관된 P(variables | e{others})의 합을 리턴함.\n",
    "    P: 베이즈 네트워크 bn으로 표현되는 결합 확률 분포,\n",
    "    e{others}: bn에서 variables를 제외한 다른 변수들로 제한된 증거.\n",
    "    variables에서 부모는 자식들보다 앞에 위치해야 함.\"\"\"\n",
    "    if not variables:\n",
    "        return 1.0\n",
    "    Y, rest = variables[0], variables[1:]\n",
    "    Ynode = bn.variable_node(Y)\n",
    "    if Y in e:\n",
    "        return Ynode.p(e[Y], e) * enumerate_all(rest, e, bn)\n",
    "    else:\n",
    "        return sum(Ynode.p(y, e) * enumerate_all(rest, extend(e, Y, y), bn)\n",
    "                   for y in bn.variable_values(Y))\n",
    "    \n",
    "    \n",
    "# 변수 소거 알고리즘\n",
    "def elimination_ask(X, e, bn):\n",
    "    \"\"\"변수 소거를 통해 베이즈 네트워크 bn의 P(X|e)를 계산함. e: 딕셔너리\"\"\"\n",
    "    assert X not in e, \"Query variable must be distinct from evidence\"\n",
    "    factors = []\n",
    "    for var in reversed(bn.variables):\n",
    "        factors.append(make_factor(var, e, bn))\n",
    "        if is_hidden(var, X, e):\n",
    "            factors = sum_out(var, factors, bn)\n",
    "    return pointwise_product(factors, bn).normalize()\n",
    "\n",
    "\n",
    "def is_hidden(var, X, e):\n",
    "    \"\"\"P(X|e)를 질의할 때 var이 미관측 변수인가?\"\"\"\n",
    "    return var != X and var not in e\n",
    "\n",
    "\n",
    "def make_factor(var, e, bn):\n",
    "    \"\"\"e가 주어졌을 때 bn의 결합 확률 분포에서 var에 대한 인수를 리턴함.\n",
    "    bn의 완전 결합 확률 분포는 bn 변수들에 대한 이 인수들의 성분별 곱(pointwise product)임.\"\"\"\n",
    "    node = bn.variable_node(var)\n",
    "    variables = [X for X in [var] + node.parents if X not in e]\n",
    "    cpt = {event_values(e1, variables): node.p(e1[var], e1)\n",
    "           for e1 in all_events(variables, bn, e)}\n",
    "    return Factor(variables, cpt)\n",
    "\n",
    "\n",
    "def pointwise_product(factors, bn):\n",
    "    return reduce(lambda f, g: f.pointwise_product(g, bn), factors)\n",
    "\n",
    "\n",
    "def sum_out(var, factors, bn):\n",
    "    \"\"\"값들에 대해 합산함으로써 모든 인수들에서 var를 삭제함.\"\"\"\n",
    "    result, var_factors = [], []\n",
    "    for f in factors:\n",
    "        (var_factors if var in f.variables else result).append(f)\n",
    "    result.append(pointwise_product(var_factors, bn).sum_out(var, bn))\n",
    "    return result\n",
    "\n",
    "\n",
    "class Factor:\n",
    "    \"\"\"결합 확률 분포의 한 인수\"\"\"\n",
    "\n",
    "    def __init__(self, variables, cpt):\n",
    "        self.variables = variables\n",
    "        self.cpt = cpt\n",
    "\n",
    "    def pointwise_product(self, other, bn):\n",
    "        \"\"\"두 인수의 성분별 곱 계산. 변수들은 합집합이 됨.\"\"\"\n",
    "        variables = list(set(self.variables) | set(other.variables))\n",
    "        cpt = {event_values(e, variables): self.p(e) * other.p(e) for e in all_events(variables, bn, {})}\n",
    "        return Factor(variables, cpt)\n",
    "\n",
    "    def sum_out(self, var, bn):\n",
    "        \"\"\"값들에 대해 합산함으로써 var를 삭제하여 인수를 생성함.\"\"\"\n",
    "        variables = [X for X in self.variables if X != var]\n",
    "        cpt = {event_values(e, variables): sum(self.p(extend(e, var, val)) for val in bn.variable_values(var))\n",
    "               for e in all_events(variables, bn, {})}\n",
    "        return Factor(variables, cpt)\n",
    "\n",
    "    def normalize(self):\n",
    "        \"\"\"확률값 리턴. 하나의 변수여야 함.\"\"\"\n",
    "        assert len(self.variables) == 1\n",
    "        return ProbDist(self.variables[0], {k: v for ((k,), v) in self.cpt.items()})\n",
    "\n",
    "    def p(self, e):\n",
    "        \"\"\"e에 대한 조건부 확률표 조회\"\"\"\n",
    "        return self.cpt[event_values(e, self.variables)]\n",
    "\n",
    "\n",
    "def all_events(variables, bn, e):\n",
    "    \"\"\"모든 변수들에 대한 값으로 e를 확장하여 yield.\"\"\"\n",
    "    if not variables:\n",
    "        yield e\n",
    "    else:\n",
    "        X, rest = variables[0], variables[1:]\n",
    "        for e1 in all_events(rest, bn, e):\n",
    "            for x in bn.variable_values(X):\n",
    "                yield extend(e1, X, x)\n",
    "\n",
    "\n",
    "def extend(s, var, val):\n",
    "    \"\"\"딕셔너리 s를 복사하고 var에 값 val을 세팅하여 확장하여 그 복사본을 리턴함.\"\"\"\n",
    "    return {**s, var: val}"
   ]
  },
  {
   "cell_type": "markdown",
   "id": "3a98e90c",
   "metadata": {
    "id": "3a98e90c"
   },
   "source": [
    "## 근사 추론 알고리즘 구현"
   ]
  },
  {
   "cell_type": "code",
   "execution_count": 14,
   "id": "9512a3fe",
   "metadata": {
    "id": "9512a3fe"
   },
   "outputs": [],
   "source": [
    "# 무증거 랜덤 샘플링\n",
    "def prior_sample(bn):\n",
    "    \"\"\"\n",
    "    베이즈 네트워크 bn의 완전 결합 확률 분포에서 무작위 샘플링.\n",
    "    {변수: 값} 형식의 딕셔너리가 리턴됨.\n",
    "    \"\"\"\n",
    "    event = {}\n",
    "    for node in bn.nodes:\n",
    "        event[node.variable] = node.sample(event)\n",
    "    return event"
   ]
  },
  {
   "cell_type": "code",
   "execution_count": 3,
   "id": "44f3bdec",
   "metadata": {
    "id": "44f3bdec"
   },
   "outputs": [],
   "source": [
    "# 기각 샘플링\n",
    "def rejection_sampling(X, e, bn, N=10000):\n",
    "    \"\"\"\n",
    "    N개의 샘플을 사용하여 P(X|e)를 추정함.\n",
    "    N개 샘플이 모두 기각되면 ZeroDivisionError 발생.\n",
    "    \"\"\"\n",
    "    counts = {x: 0 for x in bn.variable_values(X)}\n",
    "    for j in range(N):\n",
    "        sample = prior_sample(bn)\n",
    "        if consistent_with(sample, e):\n",
    "            counts[sample[X]] += 1\n",
    "    return ProbDist(X, counts)\n",
    "\n",
    "\n",
    "def consistent_with(event, evidence):\n",
    "    \"\"\"event가 evidence와 일관되는가?(증거와 부합하는가?)\"\"\"\n",
    "    return all(evidence.get(k, v) == v for k, v in event.items())"
   ]
  },
  {
   "cell_type": "code",
   "execution_count": 4,
   "id": "81e5a98b",
   "metadata": {
    "id": "81e5a98b"
   },
   "outputs": [],
   "source": [
    "# 가능도 가중치\n",
    "def likelihood_weighting(X, e, bn, N=10000):\n",
    "    \"\"\"\n",
    "    N개의 샘플을 사용하여 P(X|e)를 추정함.\n",
    "    \"\"\"\n",
    "    W = {x: 0 for x in bn.variable_values(X)}\n",
    "    for j in range(N):\n",
    "        sample, weight = weighted_sample(bn, e)\n",
    "        W[sample[X]] += weight\n",
    "    return ProbDist(X, W)\n",
    "\n",
    "\n",
    "def weighted_sample(bn, e):\n",
    "    \"\"\"\n",
    "    증거 e와 일관된 이벤트를 bn으로부터 샘플링함.\n",
    "    이벤트와 가중치(이벤트가 증거에 부합할 가능도)를 리턴함.\n",
    "    \"\"\"\n",
    "    w = 1\n",
    "    event = dict(e)\n",
    "    for node in bn.nodes:\n",
    "        Xi = node.variable\n",
    "        if Xi in e:\n",
    "            w *= node.p(e[Xi], event)\n",
    "        else:\n",
    "            event[Xi] = node.sample(event)\n",
    "    return event, w\n"
   ]
  },
  {
   "cell_type": "code",
   "execution_count": 5,
   "id": "a742fe2b",
   "metadata": {
    "id": "a742fe2b"
   },
   "outputs": [],
   "source": [
    "# Gibbs 샘플링\n",
    "def gibbs_ask(X, e, bn, N=1000):\n",
    "    \"\"\"Gibbs 샘플링.\"\"\"\n",
    "    assert X not in e, \"Query variable must be distinct from evidence\"\n",
    "    counts = {x: 0 for x in bn.variable_values(X)}\n",
    "    Z = [var for var in bn.variables if var not in e]\n",
    "    state = dict(e)\n",
    "    for Zi in Z:\n",
    "        state[Zi] = random.choice(bn.variable_values(Zi))\n",
    "    for j in range(N):\n",
    "        for Zi in Z:\n",
    "            state[Zi] = markov_blanket_sample(Zi, state, bn)\n",
    "            counts[state[X]] += 1\n",
    "    return ProbDist(X, counts)\n",
    "\n",
    "\n",
    "def markov_blanket_sample(X, e, bn):\n",
    "    \"\"\"\n",
    "    P(X | mb)에 따라 샘플을 리턴함.\n",
    "    mb: X의 마르코프 블랭킷에 속한 변수들. 그 값은 이벤트 e에서 취함.\n",
    "    x의 마르코프 블랭킷: X의 부모들, 자식들, 자식들의 부모들\n",
    "    \"\"\"\n",
    "    Xnode = bn.variable_node(X)\n",
    "    Q = ProbDist(X)\n",
    "    for xi in bn.variable_values(X):\n",
    "        ei = extend(e, X, xi)\n",
    "        Q[xi] = Xnode.p(xi, e) * product(Yj.p(ei[Yj.variable], ei) for Yj in Xnode.children)\n",
    "    # 불리언 변수로 가정함.\n",
    "    return probability(Q.normalize()[True])\n",
    "\n",
    "\n",
    "def product(numbers):\n",
    "    \"\"\"numbers에 있는 값들을 모두 곱한 결과를 리턴함. 예: product([2, 3, 10]) == 60\"\"\"\n",
    "    result = 1\n",
    "    for x in numbers:\n",
    "        result *= x\n",
    "    return result"
   ]
  },
  {
   "cell_type": "markdown",
   "id": "0dd78456",
   "metadata": {
    "id": "0dd78456"
   },
   "source": [
    "## 근사 추론 예"
   ]
  },
  {
   "cell_type": "code",
   "execution_count": 6,
   "id": "92bf05e2",
   "metadata": {
    "id": "92bf05e2"
   },
   "outputs": [],
   "source": [
    "# 결정론적 노드 o\n",
    "Aplus = BayesNet([\n",
    "    (\"교수님의수제자\", '', 0.05),\n",
    "    ('선배와친분', \"교수님의수제자\", {T: 0.8, F: 0.3}),\n",
    "    ('족보보유', '선배와친분', {T: 0.7, F: 0.1}),\n",
    "    ('외부대외활동', '교수님의수제자', {T: 0.85, F: 0.1}),\n",
    "    ('높은아이큐', '', 0.2),\n",
    "    ('사전지식보유', '외부대외활동 높은아이큐', {(T, T): 0.9, (T, F): 0.75, (F, T): 0.35, (F, F): 0.05}),\n",
    "    ('체력좋음', '', 0.25),\n",
    "    ('매주예복습', '체력좋음', {T: 0.6, F: 0.2}),\n",
    "    ('자료3회독', '매주예복습', {T: 0.9, F: 0.15}),\n",
    "    ('정시기상', '체력좋음', {T: 0.99, F: 0.90}),\n",
    "    ('정시출석','정시기상',{T:1, F:0}),\n",
    "    ('에이플', '족보보유 사전지식보유 자료3회독 정시출석', {(T, T, T, T): 0.97, (T, T, F, T): 0.7, (T, F, T, T): 0.85, (F, T, T, T): 0.7, (T, F, F, T): 0.5, (F, T, F, T): 0.3, (F, F, T, T): 0.4, (F, F, F, T): 0.05, (T, T, T, F): 0.5, (T, T, F, F): 0.4, (T, F, T, F): 0.35, (F, T, T, F): 0.35, (T, F, F, F): 0.2, (F, T, F, F): 0.15, (F, F, T, F): 0.1, (F, F, F, F): 0.03})\n",
    "])"
   ]
  },
  {
   "cell_type": "code",
   "execution_count": 16,
   "id": "bd7e530c",
   "metadata": {},
   "outputs": [],
   "source": [
    "\n",
    "Aplus3 = BayesNet([\n",
    "    (\"교수님의수제자\", '', 0.05),\n",
    "    ('선배와친분', \"교수님의수제자\", {T: 0.8, F: 0.3}),\n",
    "    ('족보보유', '선배와친분', {T: 0.7, F: 0.1}),\n",
    "    ('외부대외활동', '교수님의수제자', {T: 0.85, F: 0.1}),\n",
    "    ('높은아이큐', '', 0.2),\n",
    "    ('사전지식보유', '외부대외활동 높은아이큐', {(T, T): 0.9, (T, F): 0.75, (F, T): 0.35, (F, F): 0.05}),\n",
    "    ('체력좋음', '', 0.25),\n",
    "    ('매주예복습', '체력좋음', {T: 0.6, F: 0.2}),\n",
    "    ('자료3회독', '매주예복습', {T: 0.9, F: 0.15}),\n",
    "    ('정시출석', '체력좋음', {T: 0.99, F: 0.90}),\n",
    "    ('에이플', '족보보유 사전지식보유 자료3회독 정시출석', {(T, T, T, T): 0.97, (T, T, F, T): 0.7, (T, F, T, T): 0.85, (F, T, T, T): 0.7, (T, F, F, T): 0.5, (F, T, F, T): 0.3, (F, F, T, T): 0.4, (F, F, F, T): 0.05, (T, T, T, F): 0.5, (T, T, F, F): 0.4, (T, F, T, F): 0.35, (F, T, T, F): 0.35, (T, F, F, F): 0.2, (F, T, F, F): 0.15, (F, F, T, F): 0.1, (F, F, F, F): 0.03})\n",
    "])"
   ]
  },
  {
   "cell_type": "code",
   "execution_count": 17,
   "id": "2efff295",
   "metadata": {
    "colab": {
     "base_uri": "https://localhost:8080/"
    },
    "id": "9ca79011",
    "outputId": "f4f0ffe0-3e87-40fc-a947-b8b51f57331b"
   },
   "outputs": [
    {
     "name": "stdout",
     "output_type": "stream",
     "text": [
      "False: 0.649, True: 0.351\n",
      "0.3509909090909091\n",
      "False: 0.65, True: 0.35\n",
      "0.3502090909090909\n",
      "False: 0.655, True: 0.345\n",
      "0.34450909090909093\n",
      "False: 0.662, True: 0.338\n",
      "0.3382909090909091\n",
      "False: 0.654, True: 0.346\n",
      "0.3461909090909091\n",
      "False: 0.667, True: 0.333\n",
      "0.3326909090909091\n",
      "False: 0.661, True: 0.339\n",
      "0.3385\n",
      "False: 0.645, True: 0.355\n",
      "0.3547909090909091\n",
      "False: 0.633, True: 0.367\n",
      "0.3668\n",
      "False: 0.653, True: 0.347\n",
      "0.34650909090909093\n"
     ]
    }
   ],
   "source": [
    "# Gibbs 샘플링을 사용하여 P(에이플=True | 교수님의수제자=True) 추정\n",
    "# 결정론 : .335, 비결정론 : .362\n",
    "for _ in range(10):\n",
    "    dist = gibbs_ask('에이플', dict(), Aplus3, 10000)\n",
    "    print(dist.show_approx())\n",
    "    print(dist[True])"
   ]
  },
  {
   "cell_type": "code",
   "execution_count": 22,
   "id": "979cb868",
   "metadata": {
    "colab": {
     "base_uri": "https://localhost:8080/"
    },
    "id": "979cb868",
    "outputId": "83288ca5-f7d5-4f04-af6d-3e750b5b1637"
   },
   "outputs": [
    {
     "data": {
      "text/plain": [
       "[{'교수님의수제자': False,\n",
       "  '선배와친분': False,\n",
       "  '족보보유': False,\n",
       "  '외부대외활동': False,\n",
       "  '높은아이큐': True,\n",
       "  '사전지식보유': False,\n",
       "  '체력좋음': False,\n",
       "  '매주예복습': False,\n",
       "  '자료3회독': False,\n",
       "  '정시기상': True,\n",
       "  '정시출석': True,\n",
       "  '에이플': True}]"
      ]
     },
     "execution_count": 22,
     "metadata": {},
     "output_type": "execute_result"
    }
   ],
   "source": [
    "N = 1000\n",
    "all_observations = [prior_sample(Aplus) for x in range(N)]\n",
    "all_observations[:1]"
   ]
  },
  {
   "cell_type": "code",
   "execution_count": 23,
   "id": "8c102148",
   "metadata": {
    "colab": {
     "base_uri": "https://localhost:8080/"
    },
    "id": "8c102148",
    "outputId": "08fa0189-cfb3-4772-ef09-ba688a984ec6"
   },
   "outputs": [
    {
     "name": "stdout",
     "output_type": "stream",
     "text": [
      "0.323\n"
     ]
    }
   ],
   "source": [
    "# P(에이플=True)\n",
    "Aplus_true = [observation for observation in all_observations if observation['에이플'] == True]\n",
    "answer = len(Aplus_true) / N\n",
    "print(answer)"
   ]
  },
  {
   "cell_type": "code",
   "execution_count": 24,
   "id": "62d7c1dd",
   "metadata": {
    "colab": {
     "base_uri": "https://localhost:8080/"
    },
    "id": "62d7c1dd",
    "outputId": "1eb396d2-500f-4f18-e5d6-939f4ab77a05"
   },
   "outputs": [
    {
     "name": "stdout",
     "output_type": "stream",
     "text": [
      "0.918\n"
     ]
    }
   ],
   "source": [
    "# 다시 샘플링하여 계산\n",
    "N = 1000\n",
    "all_observations = [prior_sample(Aplus) for x in range(N)]\n",
    "Aplus_true = [observation for observation in all_observations if observation['정시출석'] == True]\n",
    "answer = len(Aplus_true) / N\n",
    "print(answer)"
   ]
  },
  {
   "cell_type": "code",
   "execution_count": null,
   "id": "9d138650",
   "metadata": {
    "colab": {
     "base_uri": "https://localhost:8080/"
    },
    "id": "9d138650",
    "outputId": "dbd9a584-e43c-4e72-8fef-4426397565c8"
   },
   "outputs": [],
   "source": [
    "# P(교수님의수제자=True | 에이플=True)\n",
    "pp_and_Aplus = [observation for observation in Aplus_true if observation['교수님의수제자'] == True]\n",
    "answer = len(pp_and_Aplus) / len(Aplus_true)\n",
    "print(answer)"
   ]
  },
  {
   "cell_type": "code",
   "execution_count": null,
   "id": "c9f56863",
   "metadata": {
    "colab": {
     "base_uri": "https://localhost:8080/"
    },
    "id": "c9f56863",
    "outputId": "a3b0cc77-1604-482c-b46e-10e65e35dfa1"
   },
   "outputs": [],
   "source": [
    "# 기각 샘플링을 사용하여 P(에이플=True | 교수님의수제자=True) 추정\n",
    "#random.seed(seed)\n",
    "dist = rejection_sampling('족보보유', dict(에이플=True, 높은아이큐=True), Aplus, 10000)\n",
    "print(dist.show_approx())\n",
    "print(dist[True])"
   ]
  },
  {
   "cell_type": "code",
   "execution_count": null,
   "id": "0bfa8afb",
   "metadata": {
    "colab": {
     "base_uri": "https://localhost:8080/"
    },
    "id": "0bfa8afb",
    "outputId": "985b59be-1180-467d-af2c-8b1109afc565"
   },
   "outputs": [],
   "source": [
    "weighted_sample(Aplus, dict(에이플=True))"
   ]
  },
  {
   "cell_type": "code",
   "execution_count": null,
   "id": "4322b5d9",
   "metadata": {
    "colab": {
     "base_uri": "https://localhost:8080/"
    },
    "id": "4322b5d9",
    "outputId": "35883690-36ef-4066-8ebb-b986f679f1db"
   },
   "outputs": [],
   "source": [
    "# 가능도 가중치를 사용하여 P(에이플=True | 교수님의수제자=True) 추정\n",
    "#random.seed(seed)\n",
    "dist = likelihood_weighting('에이플', dict(출석=True), Aplus, 1000)\n",
    "print(dist.show_approx())\n",
    "print(dist[True])"
   ]
  },
  {
   "cell_type": "code",
   "execution_count": null,
   "id": "9ca79011",
   "metadata": {
    "colab": {
     "base_uri": "https://localhost:8080/"
    },
    "id": "9ca79011",
    "outputId": "f4f0ffe0-3e87-40fc-a947-b8b51f57331b"
   },
   "outputs": [],
   "source": [
    "# Gibbs 샘플링을 사용하여 P(에이플=True | 교수님의수제자=True) 추정\n",
    "# 결정론 : .335, 비결정론 : .362\n",
    "for _ in range(10):\n",
    "    dist = gibbs_ask('에이플', dict(), Aplus, 10000)\n",
    "    print(dist.show_approx())\n",
    "    print(dist[True])"
   ]
  },
  {
   "cell_type": "code",
   "execution_count": null,
   "id": "48a083e1",
   "metadata": {},
   "outputs": [],
   "source": [
    "# 결정론적인 노드 x\n",
    "Aplus2 = BayesNet([\n",
    "    (\"교수님의수제자\", '', 0.05),\n",
    "    ('선배와친분', \"교수님의수제자\", {T: 0.8, F: 0.3}),\n",
    "    ('족보보유', '선배와친분', {T: 0.7, F: 0.1}),\n",
    "    ('외부대외활동', '교수님의수제자', {T: 0.85, F: 0.1}),\n",
    "    ('높은아이큐', '', 0.2),\n",
    "    ('사전지식보유', '외부대외활동 높은아이큐', {(T, T): 0.9, (T, F): 0.75, (F, T): 0.35, (F, F): 0.05}),\n",
    "    ('체력좋음', '', 0.25),\n",
    "    ('매주예복습', '체력좋음', {T: 0.6, F: 0.2}),\n",
    "    ('자료3회독', '매주예복습', {T: 0.9, F: 0.15}),\n",
    "    ('에이플', '족보보유 사전지식보유 자료3회독', {(T, T, T): 0.97, (T, T, F): 0.7, (T, F, T): 0.85, (F, T, T): 0.7, (T, F, F): 0.5, (F, T, F): 0.3, (F, F, T): 0.4, (F, F, F): 0.05})\n",
    "])"
   ]
  },
  {
   "cell_type": "code",
   "execution_count": null,
   "id": "e43f7edf",
   "metadata": {},
   "outputs": [],
   "source": [
    "# Gibbs 샘플링을 사용하여 P(에이플=True | 교수님의수제자=True) 추정 안고장남\n",
    "# 결정론 : .335, 비결정론 : .362\n",
    "for _ in range(10):\n",
    "    dist = gibbs_ask('에이플', dict(), Aplus2, 10000)\n",
    "    print(dist.show_approx())\n",
    "    print(dist[True])"
   ]
  },
  {
   "cell_type": "code",
   "execution_count": 15,
   "id": "b7029e1a",
   "metadata": {},
   "outputs": [
    {
     "data": {
      "text/plain": [
       "'False: 0.436, True: 0.564'"
      ]
     },
     "execution_count": 15,
     "metadata": {},
     "output_type": "execute_result"
    }
   ],
   "source": [
    "ans_dist = elimination_ask('에이플', dict(교수님의수제자=True), Aplus)\n",
    "ans_dist.show_approx()"
   ]
  },
  {
   "cell_type": "code",
   "execution_count": null,
   "id": "2b503a9f",
   "metadata": {},
   "outputs": [],
   "source": []
  }
 ],
 "metadata": {
  "colab": {
   "provenance": []
  },
  "kernelspec": {
   "display_name": "Python 3 (ipykernel)",
   "language": "python",
   "name": "python3"
  },
  "language_info": {
   "codemirror_mode": {
    "name": "ipython",
    "version": 3
   },
   "file_extension": ".py",
   "mimetype": "text/x-python",
   "name": "python",
   "nbconvert_exporter": "python",
   "pygments_lexer": "ipython3",
   "version": "3.10.10"
  }
 },
 "nbformat": 4,
 "nbformat_minor": 5
}
